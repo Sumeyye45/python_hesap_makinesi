{
 "cells": [
  {
   "cell_type": "code",
   "execution_count": 4,
   "id": "d9cad148",
   "metadata": {},
   "outputs": [
    {
     "name": "stdout",
     "output_type": "stream",
     "text": [
      "Tek sayi 1\n",
      "Çift sayi 2\n",
      "Tek sayi 45\n",
      "Çift sayi 78\n",
      "Tek sayi 13\n",
      "Tek sayi 15\n"
     ]
    }
   ],
   "source": [
    "liste = [1,2,45,78,13,15]\n",
    "\n",
    "for deger in liste:\n",
    "    if deger % 2 == 0 :\n",
    "        print(\"Çift sayi {}\".format(deger))\n",
    "    elif deger % 2 == 1:\n",
    "        print(\"Tek sayi {}\".format(deger))"
   ]
  },
  {
   "cell_type": "code",
   "execution_count": null,
   "id": "51c664e3",
   "metadata": {},
   "outputs": [],
   "source": []
  }
 ],
 "metadata": {
  "kernelspec": {
   "display_name": "Python 3 (ipykernel)",
   "language": "python",
   "name": "python3"
  },
  "language_info": {
   "codemirror_mode": {
    "name": "ipython",
    "version": 3
   },
   "file_extension": ".py",
   "mimetype": "text/x-python",
   "name": "python",
   "nbconvert_exporter": "python",
   "pygments_lexer": "ipython3",
   "version": "3.9.13"
  }
 },
 "nbformat": 4,
 "nbformat_minor": 5
}
