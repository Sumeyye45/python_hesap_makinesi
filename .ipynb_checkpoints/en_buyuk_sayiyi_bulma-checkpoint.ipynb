{
 "cells": [
  {
   "cell_type": "code",
   "execution_count": 2,
   "id": "8132e290",
   "metadata": {},
   "outputs": [
    {
     "name": "stdout",
     "output_type": "stream",
     "text": [
      "EN BÜYÜK SAYİYİ BULMA\n",
      "Sayi giriniz:40\n",
      "Sayi giriniz:50\n",
      "Sayi giriniz:700\n",
      "700.0 en büyük sayı.\n"
     ]
    }
   ],
   "source": [
    "print(\"EN BÜYÜK SAYİYİ BULMA\")\n",
    " \n",
    "a = float(input(\"Sayi giriniz:\"))\n",
    "b = float(input(\"Sayi giriniz:\"))\n",
    "c = float(input(\"Sayi giriniz:\"))\n",
    "\n",
    "if a > b and a > c:\n",
    "    print(\"{} en büyük sayı.\".format(a))\n",
    "elif b > a and b > c:\n",
    "    print(\"{} en büyük sayı.\".format(b))\n",
    "elif c > a and c > b:\n",
    "    print(\"{} en büyük sayı.\".format(c))\n",
    "\n",
    "\n",
    "\n"
   ]
  },
  {
   "cell_type": "code",
   "execution_count": null,
   "id": "2112134c",
   "metadata": {},
   "outputs": [],
   "source": []
  },
  {
   "cell_type": "code",
   "execution_count": null,
   "id": "ad1652e4",
   "metadata": {},
   "outputs": [],
   "source": []
  }
 ],
 "metadata": {
  "kernelspec": {
   "display_name": "Python 3 (ipykernel)",
   "language": "python",
   "name": "python3"
  },
  "language_info": {
   "codemirror_mode": {
    "name": "ipython",
    "version": 3
   },
   "file_extension": ".py",
   "mimetype": "text/x-python",
   "name": "python",
   "nbconvert_exporter": "python",
   "pygments_lexer": "ipython3",
   "version": "3.9.13"
  }
 },
 "nbformat": 4,
 "nbformat_minor": 5
}
