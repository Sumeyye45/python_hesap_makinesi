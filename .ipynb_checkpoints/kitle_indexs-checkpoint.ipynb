{
 "cells": [
  {
   "cell_type": "code",
   "execution_count": 3,
   "id": "b2d5c5be",
   "metadata": {},
   "outputs": [
    {
     "name": "stdout",
     "output_type": "stream",
     "text": [
      "BEDEN KİTLE İNDEXİ HESAPLAMA\n",
      "Boyu girin:1.74\n",
      "Kilo girin:76\n",
      "Fazla Kilolu\n"
     ]
    }
   ],
   "source": [
    "print(\"BEDEN KİTLE İNDEXİ HESAPLAMA\")\n",
    "boy = float(input(\"Boyu girin:\"))\n",
    "kilo = float(input(\"Kilo girin:\"))\n",
    "\n",
    "bki = (kilo/boy)*boy\n",
    "\n",
    "if bki < 18.5:\n",
    "    print(\"Zayıf\")\n",
    "    \n",
    "elif bki > 18.5 and bki <25:\n",
    "    print(\"Normal\")\n",
    "    \n",
    "elif bki > 25 and bki < 30:\n",
    "    print(\"Fazla Kilolu\")\n",
    "    \n",
    "elif bki > 30 :\n",
    "    print(\"Fazla Kilolu\")\n",
    "    "
   ]
  },
  {
   "cell_type": "code",
   "execution_count": null,
   "id": "716ef768",
   "metadata": {},
   "outputs": [],
   "source": []
  }
 ],
 "metadata": {
  "kernelspec": {
   "display_name": "Python 3 (ipykernel)",
   "language": "python",
   "name": "python3"
  },
  "language_info": {
   "codemirror_mode": {
    "name": "ipython",
    "version": 3
   },
   "file_extension": ".py",
   "mimetype": "text/x-python",
   "name": "python",
   "nbconvert_exporter": "python",
   "pygments_lexer": "ipython3",
   "version": "3.9.13"
  }
 },
 "nbformat": 4,
 "nbformat_minor": 5
}
