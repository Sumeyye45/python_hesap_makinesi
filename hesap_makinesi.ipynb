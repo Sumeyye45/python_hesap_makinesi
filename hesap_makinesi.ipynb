{
 "cells": [
  {
   "cell_type": "code",
   "execution_count": 18,
   "id": "72ea0bf1",
   "metadata": {},
   "outputs": [
    {
     "name": "stdout",
     "output_type": "stream",
     "text": [
      "\n",
      "Hesap Makinesi\n",
      "\n",
      "1. Toplama İşlemi\n",
      "\n",
      "2. Çıkarma İşlemi\n",
      "\n",
      "3. Çarpma İşlemi\n",
      "\n",
      "4. Bölme İşlemi\n",
      "\n"
     ]
    }
   ],
   "source": [
    "print(\"\"\"\n",
    "Hesap Makinesi\n",
    "\n",
    "1. Toplama İşlemi\n",
    "\n",
    "2. Çıkarma İşlemi\n",
    "\n",
    "3. Çarpma İşlemi\n",
    "\n",
    "4. Bölme İşlemi\n",
    "\"\"\")"
   ]
  },
  {
   "cell_type": "code",
   "execution_count": 19,
   "id": "d6a7b6d6",
   "metadata": {},
   "outputs": [
    {
     "name": "stdout",
     "output_type": "stream",
     "text": [
      "Birinci sayı:40\n",
      "İkinci sayı:2\n"
     ]
    }
   ],
   "source": [
    "a = int(input(\"Birinci sayı:\"))\n",
    "b = int(input(\"İkinci sayı:\"))\n",
    "        "
   ]
  },
  {
   "cell_type": "code",
   "execution_count": 20,
   "id": "0a917bb0",
   "metadata": {},
   "outputs": [
    {
     "name": "stdout",
     "output_type": "stream",
     "text": [
      "işlem giriniz:4\n"
     ]
    }
   ],
   "source": [
    "islem = input(\"işlem giriniz:\")"
   ]
  },
  {
   "cell_type": "code",
   "execution_count": 21,
   "id": "40c9382b",
   "metadata": {},
   "outputs": [
    {
     "name": "stdout",
     "output_type": "stream",
     "text": [
      "40 ile 2 in bölümü 20.0 dır.\n"
     ]
    }
   ],
   "source": [
    "if islem == \"1\":\n",
    "    print(\"{} ile {} in toplamı {} dir\".format(a,b,a+b))\n",
    " \n",
    "elif islem == \"2\":\n",
    "    print(\"{} ile {} in farkı {} dır.\".format(a,b,a-b))\n",
    "    \n",
    "elif islem == \"3\":\n",
    "    print(\"{} ile {} in çarpımı {} dir\".format(a,b,a*b))\n",
    "    \n",
    "elif islem == \"4\":\n",
    "    print(\"{} ile {} in bölümü {} dır.\".format(a,b,a/b))\n",
    "    \n",
    "else:\n",
    "    print(\"geçersiz işlem......\")\n",
    "    \n"
   ]
  },
  {
   "cell_type": "code",
   "execution_count": 25,
   "id": "10914d3f",
   "metadata": {},
   "outputs": [
    {
     "name": "stdout",
     "output_type": "stream",
     "text": [
      "sayi 50 den büyük dir\n"
     ]
    }
   ],
   "source": [
    "\n",
    "sayi = 85\n",
    "if sayi > 50:\n",
    "    print(\"sayi 50 den büyük dir\")\n",
    "elif sayi > 60:\n",
    "    print(\"sayi 60 den büyük dir\")\n",
    "elif sayi > 70:\n",
    "     print(\"sayi 70 den büyük dir\")\n",
    "          \n"
   ]
  },
  {
   "cell_type": "code",
   "execution_count": null,
   "id": "226a43a2",
   "metadata": {},
   "outputs": [],
   "source": []
  },
  {
   "cell_type": "code",
   "execution_count": null,
   "id": "1ac553b7",
   "metadata": {},
   "outputs": [],
   "source": []
  },
  {
   "cell_type": "code",
   "execution_count": null,
   "id": "b42e5993",
   "metadata": {},
   "outputs": [],
   "source": []
  },
  {
   "cell_type": "code",
   "execution_count": null,
   "id": "25e1b234",
   "metadata": {},
   "outputs": [],
   "source": []
  }
 ],
 "metadata": {
  "kernelspec": {
   "display_name": "Python 3 (ipykernel)",
   "language": "python",
   "name": "python3"
  },
  "language_info": {
   "codemirror_mode": {
    "name": "ipython",
    "version": 3
   },
   "file_extension": ".py",
   "mimetype": "text/x-python",
   "name": "python",
   "nbconvert_exporter": "python",
   "pygments_lexer": "ipython3",
   "version": "3.9.13"
  }
 },
 "nbformat": 4,
 "nbformat_minor": 5
}
